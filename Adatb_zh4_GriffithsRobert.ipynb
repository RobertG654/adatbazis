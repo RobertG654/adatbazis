{
    "metadata": {
        "kernelspec": {
            "name": "SQL",
            "display_name": "SQL",
            "language": "sql"
        },
        "language_info": {
            "name": "sql",
            "version": ""
        }
    },
    "nbformat_minor": 2,
    "nbformat": 4,
    "cells": [
        {
            "cell_type": "code",
            "source": [
                "SELECT sz.SZOBA_ID, COUNT(*) AS 'Db'\r\n",
                "FROM SZOBA sz LEFT JOIN FOGLALAS f ON sz.SZOBA_ID = f.SZOBA_FK\r\n",
                "GROUP BY sz.SZOBA_ID\r\n",
                ""
            ],
            "metadata": {
                "azdata_cell_guid": "76117021-e232-40ab-83aa-eddc188c6ead",
                "language": "sql",
                "tags": []
            },
            "outputs": [],
            "execution_count": null
        },
        {
            "cell_type": "code",
            "source": [
                "SELECT v.USERNEV, v.NEV, v.EMAIL, v.SZUL_DAT, v.SZAML_CIM\r\n",
                "FROM VENDEG v JOIN FOGLALAS f ON v.USERNEV = f.UGYFEL_FK\r\n",
                "              JOIN SZOBA sz ON f.SZOBA_FK = sz.SZOBA_ID\r\n",
                "WHERE sz.KLIMAS = 'i' AND sz.FEROHELY = (\r\n",
                "                                SELECT MAX(FEROHELY)\r\n",
                "                                FROM SZOBA\r\n",
                "                                WHERE KLIMAS = 'i'\r\n",
                "                            )\r\n",
                ""
            ],
            "metadata": {
                "azdata_cell_guid": "e75e54b6-3ee6-496c-ab5f-e4bb16cdd7a0",
                "language": "sql",
                "tags": []
            },
            "outputs": [],
            "execution_count": null
        },
        {
            "cell_type": "code",
            "source": [
                "SELECT COUNT(DISTINCT FEROHELY) AS 'különböző',\r\n",
                "       MIN(FEROHELY) AS 'min',\r\n",
                "       MAX(FEROHELY) AS 'max',\r\n",
                "       AVG(FEROHELY) AS 'átlag'\r\n",
                "\r\n",
                "FROM SZOBA"
            ],
            "metadata": {
                "azdata_cell_guid": "fd357f5e-d1bf-41e7-9892-165394f308b0",
                "language": "sql"
            },
            "outputs": [],
            "execution_count": null
        },
        {
            "cell_type": "code",
            "source": [
                "SELECT CAST(METTOL AS DATE) AS 'Datum', SZOBA_FK AS 'Szoba', COUNT(*) AS 'Db'\r\n",
                "FROM FOGLALAS\r\n",
                "GROUP BY ROLLUP(CAST(METTOL AS DATE), SZOBA_FK)"
            ],
            "metadata": {
                "azdata_cell_guid": "76494775-5318-40c5-89a1-4ecf01826f74",
                "language": "sql"
            },
            "outputs": [],
            "execution_count": null
        },
        {
            "cell_type": "code",
            "source": [
                "SELECT v.NEV, f.METTOL,\r\n",
                "       (f.FELNOTT_SZAM + f.GYERMEK_SZAM) AS 'VENDEGEK',\r\n",
                "       AVG(f.FELNOTT_SZAM + f.GYERMEK_SZAM) OVER (PARTITION BY v.USERNEV \r\n",
                "                                                  ORDER BY f.METTOL \r\n",
                "                                                  ROWS BETWEEN 4 PRECEDING AND CURRENT ROW\r\n",
                "          ) AS 'MOZGO ATLAG'\r\n",
                "FROM VENDEG v JOIN FOGLALAS f ON v.USERNEV = f.UGYFEL_FK\r\n",
                ""
            ],
            "metadata": {
                "azdata_cell_guid": "45544385-72ec-48a7-a746-04de3e30dad5",
                "language": "sql"
            },
            "outputs": [],
            "execution_count": null
        },
        {
            "cell_type": "code",
            "source": [
                "SELECT v.NEV\r\n",
                "FROM VENDEG v JOIN FOGLALAS f ON v.USERNEV = f.UGYFEL_FK\r\n",
                "              JOIN SZOBA sz ON f.SZOBA_FK = sz.SZOBA_ID\r\n",
                "WHERE sz.KLIMAS = 'i'\r\n",
                "\r\n",
                "INTERSECT\r\n",
                "\r\n",
                "SELECT v.NEV\r\n",
                "FROM VENDEG v JOIN FOGLALAS f ON v.USERNEV = f.UGYFEL_FK\r\n",
                "              JOIN SZOBA sz ON f.SZOBA_FK = sz.SZOBA_ID\r\n",
                "WHERE sz.KLIMAS = 'n'\r\n",
                ""
            ],
            "metadata": {
                "azdata_cell_guid": "66eeadbf-d2a7-4216-9fa4-2c6547d6ec5b",
                "language": "sql"
            },
            "outputs": [],
            "execution_count": null
        }
    ]
}