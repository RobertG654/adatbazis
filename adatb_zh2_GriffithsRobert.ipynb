{
    "metadata": {
        "kernelspec": {
            "name": "SQL",
            "display_name": "SQL",
            "language": "sql"
        },
        "language_info": {
            "name": "sql",
            "version": ""
        }
    },
    "nbformat_minor": 2,
    "nbformat": 4,
    "cells": [
        {
            "cell_type": "code",
            "source": [
                "SELECT *\r\n",
                "FROM Foglalas f JOIN Vendeg v ON f.UGYFEL_FK = v.USERNEV\r\n",
                "WHERE v.SZUL_DAT = (\r\n",
                "    SELECT MAX(SZUL_DAT)\r\n",
                "    FROM Vendeg \r\n",
                "    WHERE SZUL_DAT < (\r\n",
                "        SELECT MAX(SZUL_DAT)\r\n",
                "        FROM Vendeg\r\n",
                "            )\r\n",
                "    )"
            ],
            "metadata": {
                "azdata_cell_guid": "37dc2e30-8387-4fe4-8e6c-5c817d317b38",
                "language": "sql",
                "tags": []
            },
            "outputs": [
                {
                    "output_type": "display_data",
                    "data": {
                        "text/html": "(4 rows affected)"
                    },
                    "metadata": {}
                },
                {
                    "output_type": "display_data",
                    "data": {
                        "text/html": "Total execution time: 00:00:00.024"
                    },
                    "metadata": {}
                },
                {
                    "output_type": "execute_result",
                    "execution_count": 4,
                    "data": {
                        "application/vnd.dataresource+json": {
                            "schema": {
                                "fields": [
                                    {
                                        "name": "FOGLALAS_PK"
                                    },
                                    {
                                        "name": "UGYFEL_FK"
                                    },
                                    {
                                        "name": "SZOBA_FK"
                                    },
                                    {
                                        "name": "METTOL"
                                    },
                                    {
                                        "name": "MEDDIG"
                                    },
                                    {
                                        "name": "FELNOTT_SZAM"
                                    },
                                    {
                                        "name": "GYERMEK_SZAM"
                                    },
                                    {
                                        "name": "USERNEV"
                                    },
                                    {
                                        "name": "NEV"
                                    },
                                    {
                                        "name": "EMAIL"
                                    },
                                    {
                                        "name": "SZAML_CIM"
                                    },
                                    {
                                        "name": "SZUL_DAT"
                                    }
                                ]
                            },
                            "data": [
                                {
                                    "FOGLALAS_PK": "583",
                                    "UGYFEL_FK": "istvan1",
                                    "SZOBA_FK": "79",
                                    "METTOL": "2016-04-16",
                                    "MEDDIG": "2016-04-22",
                                    "FELNOTT_SZAM": "3",
                                    "GYERMEK_SZAM": "0",
                                    "USERNEV": "istvan1",
                                    "NEV": "Vizi István",
                                    "EMAIL": "istván.vizi@mail.hu",
                                    "SZAML_CIM": "7086 Ozora Rákóczi utca 1.",
                                    "SZUL_DAT": "1997-12-01"
                                },
                                {
                                    "FOGLALAS_PK": "599",
                                    "UGYFEL_FK": "istvan1",
                                    "SZOBA_FK": "162",
                                    "METTOL": "2016-04-24",
                                    "MEDDIG": "2016-04-28",
                                    "FELNOTT_SZAM": "3",
                                    "GYERMEK_SZAM": "0",
                                    "USERNEV": "istvan1",
                                    "NEV": "Vizi István",
                                    "EMAIL": "istván.vizi@mail.hu",
                                    "SZAML_CIM": "7086 Ozora Rákóczi utca 1.",
                                    "SZUL_DAT": "1997-12-01"
                                },
                                {
                                    "FOGLALAS_PK": "689",
                                    "UGYFEL_FK": "istvan1",
                                    "SZOBA_FK": "102",
                                    "METTOL": "2016-07-19",
                                    "MEDDIG": "2016-07-24",
                                    "FELNOTT_SZAM": "1",
                                    "GYERMEK_SZAM": "0",
                                    "USERNEV": "istvan1",
                                    "NEV": "Vizi István",
                                    "EMAIL": "istván.vizi@mail.hu",
                                    "SZAML_CIM": "7086 Ozora Rákóczi utca 1.",
                                    "SZUL_DAT": "1997-12-01"
                                },
                                {
                                    "FOGLALAS_PK": "1507",
                                    "UGYFEL_FK": "istvan1",
                                    "SZOBA_FK": "153",
                                    "METTOL": "2017-02-07",
                                    "MEDDIG": "2017-02-10",
                                    "FELNOTT_SZAM": "2",
                                    "GYERMEK_SZAM": "1",
                                    "USERNEV": "istvan1",
                                    "NEV": "Vizi István",
                                    "EMAIL": "istván.vizi@mail.hu",
                                    "SZAML_CIM": "7086 Ozora Rákóczi utca 1.",
                                    "SZUL_DAT": "1997-12-01"
                                }
                            ]
                        },
                        "text/html": "<table><tr><th>FOGLALAS_PK</th><th>UGYFEL_FK</th><th>SZOBA_FK</th><th>METTOL</th><th>MEDDIG</th><th>FELNOTT_SZAM</th><th>GYERMEK_SZAM</th><th>USERNEV</th><th>NEV</th><th>EMAIL</th><th>SZAML_CIM</th><th>SZUL_DAT</th></tr><tr><td>583</td><td>istvan1</td><td>79</td><td>2016-04-16</td><td>2016-04-22</td><td>3</td><td>0</td><td>istvan1</td><td>Vizi István</td><td>istván.vizi@mail.hu</td><td>7086 Ozora Rákóczi utca 1.</td><td>1997-12-01</td></tr><tr><td>599</td><td>istvan1</td><td>162</td><td>2016-04-24</td><td>2016-04-28</td><td>3</td><td>0</td><td>istvan1</td><td>Vizi István</td><td>istván.vizi@mail.hu</td><td>7086 Ozora Rákóczi utca 1.</td><td>1997-12-01</td></tr><tr><td>689</td><td>istvan1</td><td>102</td><td>2016-07-19</td><td>2016-07-24</td><td>1</td><td>0</td><td>istvan1</td><td>Vizi István</td><td>istván.vizi@mail.hu</td><td>7086 Ozora Rákóczi utca 1.</td><td>1997-12-01</td></tr><tr><td>1507</td><td>istvan1</td><td>153</td><td>2017-02-07</td><td>2017-02-10</td><td>2</td><td>1</td><td>istvan1</td><td>Vizi István</td><td>istván.vizi@mail.hu</td><td>7086 Ozora Rákóczi utca 1.</td><td>1997-12-01</td></tr></table>"
                    },
                    "metadata": {}
                }
            ],
            "execution_count": 4
        },
        {
            "cell_type": "code",
            "source": [
                "SELECT sz.SZOBA_ID, sz.FEROHELY, DENSE_RANK() OVER(ORDER BY COUNT(f.FOGLALAS_PK), sz.FEROHELY) AS 'Helyezés'\r\n",
                "FROM Szoba sz JOIN Foglalas f ON sz.SZOBA_ID = f.SZOBA_FK\r\n",
                "GROUP BY sz.SZOBA_ID, sz.FEROHELY\r\n",
                "ORDER BY COUNT(f.FOGLALAS_PK), sz.FEROHELY"
            ],
            "metadata": {
                "azdata_cell_guid": "d02e251b-3863-4403-a270-8d6091923256",
                "language": "sql"
            },
            "outputs": [
                {
                    "output_type": "display_data",
                    "data": {
                        "text/html": "(197 rows affected)"
                    },
                    "metadata": {}
                },
                {
                    "output_type": "display_data",
                    "data": {
                        "text/html": "Total execution time: 00:00:00.010"
                    },
                    "metadata": {}
                },
                {
                    "output_type": "execute_result",
                    "execution_count": 6,
                    "data": {
                        "application/vnd.dataresource+json": {
                            "schema": {
                                "fields": [
                                    {
                                        "name": "SZOBA_ID"
                                    },
                                    {
                                        "name": "FEROHELY"
                                    },
                                    {
                                        "name": "Helyezés"
                                    }
                                ]
                            },
                            "data": [
                                {
                                    "SZOBA_ID": "32",
                                    "FEROHELY": "2",
                                    "Helyezés": "1"
                                },
                                {
                                    "SZOBA_ID": "65",
                                    "FEROHELY": "2",
                                    "Helyezés": "1"
                                },
                                {
                                    "SZOBA_ID": "125",
                                    "FEROHELY": "2",
                                    "Helyezés": "1"
                                },
                                {
                                    "SZOBA_ID": "147",
                                    "FEROHELY": "2",
                                    "Helyezés": "1"
                                },
                                {
                                    "SZOBA_ID": "194",
                                    "FEROHELY": "2",
                                    "Helyezés": "1"
                                },
                                {
                                    "SZOBA_ID": "60",
                                    "FEROHELY": "3",
                                    "Helyezés": "2"
                                },
                                {
                                    "SZOBA_ID": "56",
                                    "FEROHELY": "2",
                                    "Helyezés": "3"
                                },
                                {
                                    "SZOBA_ID": "53",
                                    "FEROHELY": "2",
                                    "Helyezés": "3"
                                },
                                {
                                    "SZOBA_ID": "47",
                                    "FEROHELY": "2",
                                    "Helyezés": "3"
                                },
                                {
                                    "SZOBA_ID": "26",
                                    "FEROHELY": "2",
                                    "Helyezés": "3"
                                },
                                {
                                    "SZOBA_ID": "108",
                                    "FEROHELY": "2",
                                    "Helyezés": "3"
                                },
                                {
                                    "SZOBA_ID": "102",
                                    "FEROHELY": "2",
                                    "Helyezés": "3"
                                },
                                {
                                    "SZOBA_ID": "105",
                                    "FEROHELY": "2",
                                    "Helyezés": "3"
                                },
                                {
                                    "SZOBA_ID": "192",
                                    "FEROHELY": "2",
                                    "Helyezés": "3"
                                },
                                {
                                    "SZOBA_ID": "167",
                                    "FEROHELY": "3",
                                    "Helyezés": "4"
                                },
                                {
                                    "SZOBA_ID": "116",
                                    "FEROHELY": "3",
                                    "Helyezés": "4"
                                },
                                {
                                    "SZOBA_ID": "142",
                                    "FEROHELY": "3",
                                    "Helyezés": "4"
                                },
                                {
                                    "SZOBA_ID": "25",
                                    "FEROHELY": "3",
                                    "Helyezés": "4"
                                },
                                {
                                    "SZOBA_ID": "41",
                                    "FEROHELY": "3",
                                    "Helyezés": "4"
                                },
                                {
                                    "SZOBA_ID": "37",
                                    "FEROHELY": "2",
                                    "Helyezés": "5"
                                },
                                {
                                    "SZOBA_ID": "68",
                                    "FEROHELY": "2",
                                    "Helyezés": "5"
                                },
                                {
                                    "SZOBA_ID": "23",
                                    "FEROHELY": "2",
                                    "Helyezés": "5"
                                },
                                {
                                    "SZOBA_ID": "136",
                                    "FEROHELY": "2",
                                    "Helyezés": "5"
                                },
                                {
                                    "SZOBA_ID": "101",
                                    "FEROHELY": "2",
                                    "Helyezés": "5"
                                },
                                {
                                    "SZOBA_ID": "75",
                                    "FEROHELY": "2",
                                    "Helyezés": "5"
                                },
                                {
                                    "SZOBA_ID": "76",
                                    "FEROHELY": "2",
                                    "Helyezés": "5"
                                },
                                {
                                    "SZOBA_ID": "166",
                                    "FEROHELY": "2",
                                    "Helyezés": "5"
                                },
                                {
                                    "SZOBA_ID": "180",
                                    "FEROHELY": "2",
                                    "Helyezés": "5"
                                },
                                {
                                    "SZOBA_ID": "151",
                                    "FEROHELY": "2",
                                    "Helyezés": "5"
                                },
                                {
                                    "SZOBA_ID": "158",
                                    "FEROHELY": "2",
                                    "Helyezés": "5"
                                },
                                {
                                    "SZOBA_ID": "162",
                                    "FEROHELY": "3",
                                    "Helyezés": "6"
                                },
                                {
                                    "SZOBA_ID": "179",
                                    "FEROHELY": "3",
                                    "Helyezés": "6"
                                },
                                {
                                    "SZOBA_ID": "71",
                                    "FEROHELY": "3",
                                    "Helyezés": "6"
                                },
                                {
                                    "SZOBA_ID": "135",
                                    "FEROHELY": "3",
                                    "Helyezés": "6"
                                },
                                {
                                    "SZOBA_ID": "30",
                                    "FEROHELY": "3",
                                    "Helyezés": "6"
                                },
                                {
                                    "SZOBA_ID": "31",
                                    "FEROHELY": "3",
                                    "Helyezés": "6"
                                },
                                {
                                    "SZOBA_ID": "14",
                                    "FEROHELY": "3",
                                    "Helyezés": "6"
                                },
                                {
                                    "SZOBA_ID": "24",
                                    "FEROHELY": "4",
                                    "Helyezés": "7"
                                },
                                {
                                    "SZOBA_ID": "21",
                                    "FEROHELY": "2",
                                    "Helyezés": "8"
                                },
                                {
                                    "SZOBA_ID": "11",
                                    "FEROHELY": "2",
                                    "Helyezés": "8"
                                },
                                {
                                    "SZOBA_ID": "5",
                                    "FEROHELY": "2",
                                    "Helyezés": "8"
                                },
                                {
                                    "SZOBA_ID": "63",
                                    "FEROHELY": "2",
                                    "Helyezés": "8"
                                },
                                {
                                    "SZOBA_ID": "57",
                                    "FEROHELY": "2",
                                    "Helyezés": "8"
                                },
                                {
                                    "SZOBA_ID": "50",
                                    "FEROHELY": "2",
                                    "Helyezés": "8"
                                },
                                {
                                    "SZOBA_ID": "129",
                                    "FEROHELY": "2",
                                    "Helyezés": "8"
                                },
                                {
                                    "SZOBA_ID": "114",
                                    "FEROHELY": "2",
                                    "Helyezés": "8"
                                },
                                {
                                    "SZOBA_ID": "72",
                                    "FEROHELY": "2",
                                    "Helyezés": "8"
                                },
                                {
                                    "SZOBA_ID": "73",
                                    "FEROHELY": "2",
                                    "Helyezés": "8"
                                },
                                {
                                    "SZOBA_ID": "85",
                                    "FEROHELY": "2",
                                    "Helyezés": "8"
                                },
                                {
                                    "SZOBA_ID": "103",
                                    "FEROHELY": "2",
                                    "Helyezés": "8"
                                },
                                {
                                    "SZOBA_ID": "100",
                                    "FEROHELY": "2",
                                    "Helyezés": "8"
                                },
                                {
                                    "SZOBA_ID": "91",
                                    "FEROHELY": "2",
                                    "Helyezés": "8"
                                },
                                {
                                    "SZOBA_ID": "98",
                                    "FEROHELY": "2",
                                    "Helyezés": "8"
                                },
                                {
                                    "SZOBA_ID": "184",
                                    "FEROHELY": "2",
                                    "Helyezés": "8"
                                },
                                {
                                    "SZOBA_ID": "173",
                                    "FEROHELY": "2",
                                    "Helyezés": "8"
                                },
                                {
                                    "SZOBA_ID": "174",
                                    "FEROHELY": "2",
                                    "Helyezés": "8"
                                },
                                {
                                    "SZOBA_ID": "152",
                                    "FEROHELY": "2",
                                    "Helyezés": "8"
                                },
                                {
                                    "SZOBA_ID": "186",
                                    "FEROHELY": "2",
                                    "Helyezés": "8"
                                },
                                {
                                    "SZOBA_ID": "196",
                                    "FEROHELY": "2",
                                    "Helyezés": "8"
                                },
                                {
                                    "SZOBA_ID": "183",
                                    "FEROHELY": "3",
                                    "Helyezés": "9"
                                },
                                {
                                    "SZOBA_ID": "177",
                                    "FEROHELY": "3",
                                    "Helyezés": "9"
                                },
                                {
                                    "SZOBA_ID": "178",
                                    "FEROHELY": "3",
                                    "Helyezés": "9"
                                },
                                {
                                    "SZOBA_ID": "95",
                                    "FEROHELY": "3",
                                    "Helyezés": "9"
                                },
                                {
                                    "SZOBA_ID": "90",
                                    "FEROHELY": "3",
                                    "Helyezés": "9"
                                },
                                {
                                    "SZOBA_ID": "104",
                                    "FEROHELY": "3",
                                    "Helyezés": "9"
                                },
                                {
                                    "SZOBA_ID": "84",
                                    "FEROHELY": "3",
                                    "Helyezés": "9"
                                },
                                {
                                    "SZOBA_ID": "40",
                                    "FEROHELY": "3",
                                    "Helyezés": "9"
                                },
                                {
                                    "SZOBA_ID": "46",
                                    "FEROHELY": "3",
                                    "Helyezés": "9"
                                },
                                {
                                    "SZOBA_ID": "34",
                                    "FEROHELY": "3",
                                    "Helyezés": "9"
                                },
                                {
                                    "SZOBA_ID": "69",
                                    "FEROHELY": "3",
                                    "Helyezés": "9"
                                },
                                {
                                    "SZOBA_ID": "66",
                                    "FEROHELY": "3",
                                    "Helyezés": "9"
                                },
                                {
                                    "SZOBA_ID": "2",
                                    "FEROHELY": "3",
                                    "Helyezés": "9"
                                },
                                {
                                    "SZOBA_ID": "10",
                                    "FEROHELY": "3",
                                    "Helyezés": "9"
                                },
                                {
                                    "SZOBA_ID": "13",
                                    "FEROHELY": "3",
                                    "Helyezés": "9"
                                },
                                {
                                    "SZOBA_ID": "62",
                                    "FEROHELY": "2",
                                    "Helyezés": "10"
                                },
                                {
                                    "SZOBA_ID": "52",
                                    "FEROHELY": "2",
                                    "Helyezés": "10"
                                },
                                {
                                    "SZOBA_ID": "45",
                                    "FEROHELY": "2",
                                    "Helyezés": "10"
                                },
                                {
                                    "SZOBA_ID": "81",
                                    "FEROHELY": "2",
                                    "Helyezés": "10"
                                },
                                {
                                    "SZOBA_ID": "86",
                                    "FEROHELY": "2",
                                    "Helyezés": "10"
                                },
                                {
                                    "SZOBA_ID": "107",
                                    "FEROHELY": "2",
                                    "Helyezés": "10"
                                },
                                {
                                    "SZOBA_ID": "99",
                                    "FEROHELY": "2",
                                    "Helyezés": "10"
                                },
                                {
                                    "SZOBA_ID": "111",
                                    "FEROHELY": "2",
                                    "Helyezés": "10"
                                },
                                {
                                    "SZOBA_ID": "119",
                                    "FEROHELY": "2",
                                    "Helyezés": "10"
                                },
                                {
                                    "SZOBA_ID": "128",
                                    "FEROHELY": "2",
                                    "Helyezés": "10"
                                },
                                {
                                    "SZOBA_ID": "131",
                                    "FEROHELY": "2",
                                    "Helyezés": "10"
                                },
                                {
                                    "SZOBA_ID": "175",
                                    "FEROHELY": "2",
                                    "Helyezés": "10"
                                },
                                {
                                    "SZOBA_ID": "168",
                                    "FEROHELY": "2",
                                    "Helyezés": "10"
                                },
                                {
                                    "SZOBA_ID": "170",
                                    "FEROHELY": "2",
                                    "Helyezés": "10"
                                },
                                {
                                    "SZOBA_ID": "171",
                                    "FEROHELY": "2",
                                    "Helyezés": "10"
                                },
                                {
                                    "SZOBA_ID": "154",
                                    "FEROHELY": "2",
                                    "Helyezés": "10"
                                },
                                {
                                    "SZOBA_ID": "164",
                                    "FEROHELY": "2",
                                    "Helyezés": "10"
                                },
                                {
                                    "SZOBA_ID": "157",
                                    "FEROHELY": "2",
                                    "Helyezés": "10"
                                },
                                {
                                    "SZOBA_ID": "189",
                                    "FEROHELY": "2",
                                    "Helyezés": "10"
                                },
                                {
                                    "SZOBA_ID": "190",
                                    "FEROHELY": "2",
                                    "Helyezés": "10"
                                },
                                {
                                    "SZOBA_ID": "191",
                                    "FEROHELY": "2",
                                    "Helyezés": "10"
                                },
                                {
                                    "SZOBA_ID": "160",
                                    "FEROHELY": "3",
                                    "Helyezés": "11"
                                },
                                {
                                    "SZOBA_ID": "155",
                                    "FEROHELY": "3",
                                    "Helyezés": "11"
                                },
                                {
                                    "SZOBA_ID": "153",
                                    "FEROHELY": "3",
                                    "Helyezés": "11"
                                },
                                {
                                    "SZOBA_ID": "144",
                                    "FEROHELY": "3",
                                    "Helyezés": "11"
                                },
                                {
                                    "SZOBA_ID": "123",
                                    "FEROHELY": "3",
                                    "Helyezés": "11"
                                },
                                {
                                    "SZOBA_ID": "112",
                                    "FEROHELY": "3",
                                    "Helyezés": "11"
                                },
                                {
                                    "SZOBA_ID": "113",
                                    "FEROHELY": "3",
                                    "Helyezés": "11"
                                },
                                {
                                    "SZOBA_ID": "93",
                                    "FEROHELY": "3",
                                    "Helyezés": "11"
                                },
                                {
                                    "SZOBA_ID": "87",
                                    "FEROHELY": "3",
                                    "Helyezés": "11"
                                },
                                {
                                    "SZOBA_ID": "79",
                                    "FEROHELY": "3",
                                    "Helyezés": "11"
                                },
                                {
                                    "SZOBA_ID": "51",
                                    "FEROHELY": "3",
                                    "Helyezés": "11"
                                },
                                {
                                    "SZOBA_ID": "61",
                                    "FEROHELY": "3",
                                    "Helyezés": "11"
                                },
                                {
                                    "SZOBA_ID": "20",
                                    "FEROHELY": "3",
                                    "Helyezés": "11"
                                },
                                {
                                    "SZOBA_ID": "16",
                                    "FEROHELY": "3",
                                    "Helyezés": "11"
                                },
                                {
                                    "SZOBA_ID": "8",
                                    "FEROHELY": "3",
                                    "Helyezés": "11"
                                },
                                {
                                    "SZOBA_ID": "4",
                                    "FEROHELY": "2",
                                    "Helyezés": "12"
                                },
                                {
                                    "SZOBA_ID": "15",
                                    "FEROHELY": "2",
                                    "Helyezés": "12"
                                },
                                {
                                    "SZOBA_ID": "7",
                                    "FEROHELY": "2",
                                    "Helyezés": "12"
                                },
                                {
                                    "SZOBA_ID": "19",
                                    "FEROHELY": "2",
                                    "Helyezés": "12"
                                },
                                {
                                    "SZOBA_ID": "33",
                                    "FEROHELY": "2",
                                    "Helyezés": "12"
                                },
                                {
                                    "SZOBA_ID": "28",
                                    "FEROHELY": "2",
                                    "Helyezés": "12"
                                },
                                {
                                    "SZOBA_ID": "29",
                                    "FEROHELY": "2",
                                    "Helyezés": "12"
                                },
                                {
                                    "SZOBA_ID": "64",
                                    "FEROHELY": "2",
                                    "Helyezés": "12"
                                },
                                {
                                    "SZOBA_ID": "67",
                                    "FEROHELY": "2",
                                    "Helyezés": "12"
                                },
                                {
                                    "SZOBA_ID": "42",
                                    "FEROHELY": "2",
                                    "Helyezés": "12"
                                },
                                {
                                    "SZOBA_ID": "78",
                                    "FEROHELY": "2",
                                    "Helyezés": "12"
                                },
                                {
                                    "SZOBA_ID": "106",
                                    "FEROHELY": "2",
                                    "Helyezés": "12"
                                },
                                {
                                    "SZOBA_ID": "126",
                                    "FEROHELY": "2",
                                    "Helyezés": "12"
                                },
                                {
                                    "SZOBA_ID": "130",
                                    "FEROHELY": "2",
                                    "Helyezés": "12"
                                },
                                {
                                    "SZOBA_ID": "141",
                                    "FEROHELY": "2",
                                    "Helyezés": "12"
                                },
                                {
                                    "SZOBA_ID": "137",
                                    "FEROHELY": "2",
                                    "Helyezés": "12"
                                },
                                {
                                    "SZOBA_ID": "145",
                                    "FEROHELY": "2",
                                    "Helyezés": "12"
                                },
                                {
                                    "SZOBA_ID": "148",
                                    "FEROHELY": "2",
                                    "Helyezés": "12"
                                },
                                {
                                    "SZOBA_ID": "161",
                                    "FEROHELY": "2",
                                    "Helyezés": "12"
                                },
                                {
                                    "SZOBA_ID": "150",
                                    "FEROHELY": "2",
                                    "Helyezés": "12"
                                },
                                {
                                    "SZOBA_ID": "169",
                                    "FEROHELY": "2",
                                    "Helyezés": "12"
                                },
                                {
                                    "SZOBA_ID": "195",
                                    "FEROHELY": "2",
                                    "Helyezés": "12"
                                },
                                {
                                    "SZOBA_ID": "197",
                                    "FEROHELY": "3",
                                    "Helyezés": "13"
                                },
                                {
                                    "SZOBA_ID": "188",
                                    "FEROHELY": "3",
                                    "Helyezés": "13"
                                },
                                {
                                    "SZOBA_ID": "176",
                                    "FEROHELY": "3",
                                    "Helyezés": "13"
                                },
                                {
                                    "SZOBA_ID": "181",
                                    "FEROHELY": "3",
                                    "Helyezés": "13"
                                },
                                {
                                    "SZOBA_ID": "146",
                                    "FEROHELY": "3",
                                    "Helyezés": "13"
                                },
                                {
                                    "SZOBA_ID": "132",
                                    "FEROHELY": "3",
                                    "Helyezés": "13"
                                },
                                {
                                    "SZOBA_ID": "133",
                                    "FEROHELY": "3",
                                    "Helyezés": "13"
                                },
                                {
                                    "SZOBA_ID": "134",
                                    "FEROHELY": "3",
                                    "Helyezés": "13"
                                },
                                {
                                    "SZOBA_ID": "124",
                                    "FEROHELY": "3",
                                    "Helyezés": "13"
                                },
                                {
                                    "SZOBA_ID": "120",
                                    "FEROHELY": "3",
                                    "Helyezés": "13"
                                },
                                {
                                    "SZOBA_ID": "92",
                                    "FEROHELY": "3",
                                    "Helyezés": "13"
                                },
                                {
                                    "SZOBA_ID": "82",
                                    "FEROHELY": "3",
                                    "Helyezés": "13"
                                },
                                {
                                    "SZOBA_ID": "77",
                                    "FEROHELY": "3",
                                    "Helyezés": "13"
                                },
                                {
                                    "SZOBA_ID": "36",
                                    "FEROHELY": "3",
                                    "Helyezés": "13"
                                },
                                {
                                    "SZOBA_ID": "44",
                                    "FEROHELY": "3",
                                    "Helyezés": "13"
                                },
                                {
                                    "SZOBA_ID": "54",
                                    "FEROHELY": "3",
                                    "Helyezés": "13"
                                },
                                {
                                    "SZOBA_ID": "22",
                                    "FEROHELY": "3",
                                    "Helyezés": "13"
                                },
                                {
                                    "SZOBA_ID": "17",
                                    "FEROHELY": "3",
                                    "Helyezés": "13"
                                },
                                {
                                    "SZOBA_ID": "18",
                                    "FEROHELY": "3",
                                    "Helyezés": "13"
                                },
                                {
                                    "SZOBA_ID": "9",
                                    "FEROHELY": "3",
                                    "Helyezés": "13"
                                },
                                {
                                    "SZOBA_ID": "6",
                                    "FEROHELY": "3",
                                    "Helyezés": "13"
                                },
                                {
                                    "SZOBA_ID": "59",
                                    "FEROHELY": "2",
                                    "Helyezés": "14"
                                },
                                {
                                    "SZOBA_ID": "39",
                                    "FEROHELY": "2",
                                    "Helyezés": "14"
                                },
                                {
                                    "SZOBA_ID": "80",
                                    "FEROHELY": "2",
                                    "Helyezés": "14"
                                },
                                {
                                    "SZOBA_ID": "127",
                                    "FEROHELY": "2",
                                    "Helyezés": "14"
                                },
                                {
                                    "SZOBA_ID": "109",
                                    "FEROHELY": "2",
                                    "Helyezés": "14"
                                },
                                {
                                    "SZOBA_ID": "118",
                                    "FEROHELY": "2",
                                    "Helyezés": "14"
                                },
                                {
                                    "SZOBA_ID": "139",
                                    "FEROHELY": "2",
                                    "Helyezés": "14"
                                },
                                {
                                    "SZOBA_ID": "149",
                                    "FEROHELY": "2",
                                    "Helyezés": "14"
                                },
                                {
                                    "SZOBA_ID": "156",
                                    "FEROHELY": "2",
                                    "Helyezés": "14"
                                },
                                {
                                    "SZOBA_ID": "165",
                                    "FEROHELY": "2",
                                    "Helyezés": "14"
                                },
                                {
                                    "SZOBA_ID": "163",
                                    "FEROHELY": "2",
                                    "Helyezés": "14"
                                },
                                {
                                    "SZOBA_ID": "187",
                                    "FEROHELY": "3",
                                    "Helyezés": "15"
                                },
                                {
                                    "SZOBA_ID": "193",
                                    "FEROHELY": "3",
                                    "Helyezés": "15"
                                },
                                {
                                    "SZOBA_ID": "138",
                                    "FEROHELY": "3",
                                    "Helyezés": "15"
                                },
                                {
                                    "SZOBA_ID": "143",
                                    "FEROHELY": "3",
                                    "Helyezés": "15"
                                },
                                {
                                    "SZOBA_ID": "115",
                                    "FEROHELY": "3",
                                    "Helyezés": "15"
                                },
                                {
                                    "SZOBA_ID": "96",
                                    "FEROHELY": "3",
                                    "Helyezés": "15"
                                },
                                {
                                    "SZOBA_ID": "97",
                                    "FEROHELY": "3",
                                    "Helyezés": "15"
                                },
                                {
                                    "SZOBA_ID": "49",
                                    "FEROHELY": "3",
                                    "Helyezés": "15"
                                },
                                {
                                    "SZOBA_ID": "27",
                                    "FEROHELY": "3",
                                    "Helyezés": "15"
                                },
                                {
                                    "SZOBA_ID": "55",
                                    "FEROHELY": "2",
                                    "Helyezés": "16"
                                },
                                {
                                    "SZOBA_ID": "38",
                                    "FEROHELY": "2",
                                    "Helyezés": "16"
                                },
                                {
                                    "SZOBA_ID": "110",
                                    "FEROHELY": "2",
                                    "Helyezés": "16"
                                },
                                {
                                    "SZOBA_ID": "121",
                                    "FEROHELY": "2",
                                    "Helyezés": "16"
                                },
                                {
                                    "SZOBA_ID": "140",
                                    "FEROHELY": "2",
                                    "Helyezés": "16"
                                },
                                {
                                    "SZOBA_ID": "117",
                                    "FEROHELY": "3",
                                    "Helyezés": "17"
                                },
                                {
                                    "SZOBA_ID": "83",
                                    "FEROHELY": "3",
                                    "Helyezés": "17"
                                },
                                {
                                    "SZOBA_ID": "88",
                                    "FEROHELY": "3",
                                    "Helyezés": "17"
                                },
                                {
                                    "SZOBA_ID": "89",
                                    "FEROHELY": "3",
                                    "Helyezés": "17"
                                },
                                {
                                    "SZOBA_ID": "43",
                                    "FEROHELY": "3",
                                    "Helyezés": "17"
                                },
                                {
                                    "SZOBA_ID": "1",
                                    "FEROHELY": "3",
                                    "Helyezés": "17"
                                },
                                {
                                    "SZOBA_ID": "3",
                                    "FEROHELY": "3",
                                    "Helyezés": "17"
                                },
                                {
                                    "SZOBA_ID": "198",
                                    "FEROHELY": "3",
                                    "Helyezés": "17"
                                },
                                {
                                    "SZOBA_ID": "172",
                                    "FEROHELY": "2",
                                    "Helyezés": "18"
                                },
                                {
                                    "SZOBA_ID": "12",
                                    "FEROHELY": "2",
                                    "Helyezés": "18"
                                },
                                {
                                    "SZOBA_ID": "35",
                                    "FEROHELY": "3",
                                    "Helyezés": "19"
                                },
                                {
                                    "SZOBA_ID": "48",
                                    "FEROHELY": "3",
                                    "Helyezés": "19"
                                },
                                {
                                    "SZOBA_ID": "74",
                                    "FEROHELY": "3",
                                    "Helyezés": "19"
                                },
                                {
                                    "SZOBA_ID": "122",
                                    "FEROHELY": "3",
                                    "Helyezés": "19"
                                },
                                {
                                    "SZOBA_ID": "94",
                                    "FEROHELY": "2",
                                    "Helyezés": "20"
                                },
                                {
                                    "SZOBA_ID": "70",
                                    "FEROHELY": "2",
                                    "Helyezés": "21"
                                },
                                {
                                    "SZOBA_ID": "182",
                                    "FEROHELY": "2",
                                    "Helyezés": "22"
                                },
                                {
                                    "SZOBA_ID": "185",
                                    "FEROHELY": "3",
                                    "Helyezés": "23"
                                },
                                {
                                    "SZOBA_ID": "58",
                                    "FEROHELY": "2",
                                    "Helyezés": "24"
                                }
                            ]
                        },
                        "text/html": "<table><tr><th>SZOBA_ID</th><th>FEROHELY</th><th>Helyezés</th></tr><tr><td>32</td><td>2</td><td>1</td></tr><tr><td>65</td><td>2</td><td>1</td></tr><tr><td>125</td><td>2</td><td>1</td></tr><tr><td>147</td><td>2</td><td>1</td></tr><tr><td>194</td><td>2</td><td>1</td></tr><tr><td>60</td><td>3</td><td>2</td></tr><tr><td>56</td><td>2</td><td>3</td></tr><tr><td>53</td><td>2</td><td>3</td></tr><tr><td>47</td><td>2</td><td>3</td></tr><tr><td>26</td><td>2</td><td>3</td></tr><tr><td>108</td><td>2</td><td>3</td></tr><tr><td>102</td><td>2</td><td>3</td></tr><tr><td>105</td><td>2</td><td>3</td></tr><tr><td>192</td><td>2</td><td>3</td></tr><tr><td>167</td><td>3</td><td>4</td></tr><tr><td>116</td><td>3</td><td>4</td></tr><tr><td>142</td><td>3</td><td>4</td></tr><tr><td>25</td><td>3</td><td>4</td></tr><tr><td>41</td><td>3</td><td>4</td></tr><tr><td>37</td><td>2</td><td>5</td></tr><tr><td>68</td><td>2</td><td>5</td></tr><tr><td>23</td><td>2</td><td>5</td></tr><tr><td>136</td><td>2</td><td>5</td></tr><tr><td>101</td><td>2</td><td>5</td></tr><tr><td>75</td><td>2</td><td>5</td></tr><tr><td>76</td><td>2</td><td>5</td></tr><tr><td>166</td><td>2</td><td>5</td></tr><tr><td>180</td><td>2</td><td>5</td></tr><tr><td>151</td><td>2</td><td>5</td></tr><tr><td>158</td><td>2</td><td>5</td></tr><tr><td>162</td><td>3</td><td>6</td></tr><tr><td>179</td><td>3</td><td>6</td></tr><tr><td>71</td><td>3</td><td>6</td></tr><tr><td>135</td><td>3</td><td>6</td></tr><tr><td>30</td><td>3</td><td>6</td></tr><tr><td>31</td><td>3</td><td>6</td></tr><tr><td>14</td><td>3</td><td>6</td></tr><tr><td>24</td><td>4</td><td>7</td></tr><tr><td>21</td><td>2</td><td>8</td></tr><tr><td>11</td><td>2</td><td>8</td></tr><tr><td>5</td><td>2</td><td>8</td></tr><tr><td>63</td><td>2</td><td>8</td></tr><tr><td>57</td><td>2</td><td>8</td></tr><tr><td>50</td><td>2</td><td>8</td></tr><tr><td>129</td><td>2</td><td>8</td></tr><tr><td>114</td><td>2</td><td>8</td></tr><tr><td>72</td><td>2</td><td>8</td></tr><tr><td>73</td><td>2</td><td>8</td></tr><tr><td>85</td><td>2</td><td>8</td></tr><tr><td>103</td><td>2</td><td>8</td></tr><tr><td>100</td><td>2</td><td>8</td></tr><tr><td>91</td><td>2</td><td>8</td></tr><tr><td>98</td><td>2</td><td>8</td></tr><tr><td>184</td><td>2</td><td>8</td></tr><tr><td>173</td><td>2</td><td>8</td></tr><tr><td>174</td><td>2</td><td>8</td></tr><tr><td>152</td><td>2</td><td>8</td></tr><tr><td>186</td><td>2</td><td>8</td></tr><tr><td>196</td><td>2</td><td>8</td></tr><tr><td>183</td><td>3</td><td>9</td></tr><tr><td>177</td><td>3</td><td>9</td></tr><tr><td>178</td><td>3</td><td>9</td></tr><tr><td>95</td><td>3</td><td>9</td></tr><tr><td>90</td><td>3</td><td>9</td></tr><tr><td>104</td><td>3</td><td>9</td></tr><tr><td>84</td><td>3</td><td>9</td></tr><tr><td>40</td><td>3</td><td>9</td></tr><tr><td>46</td><td>3</td><td>9</td></tr><tr><td>34</td><td>3</td><td>9</td></tr><tr><td>69</td><td>3</td><td>9</td></tr><tr><td>66</td><td>3</td><td>9</td></tr><tr><td>2</td><td>3</td><td>9</td></tr><tr><td>10</td><td>3</td><td>9</td></tr><tr><td>13</td><td>3</td><td>9</td></tr><tr><td>62</td><td>2</td><td>10</td></tr><tr><td>52</td><td>2</td><td>10</td></tr><tr><td>45</td><td>2</td><td>10</td></tr><tr><td>81</td><td>2</td><td>10</td></tr><tr><td>86</td><td>2</td><td>10</td></tr><tr><td>107</td><td>2</td><td>10</td></tr><tr><td>99</td><td>2</td><td>10</td></tr><tr><td>111</td><td>2</td><td>10</td></tr><tr><td>119</td><td>2</td><td>10</td></tr><tr><td>128</td><td>2</td><td>10</td></tr><tr><td>131</td><td>2</td><td>10</td></tr><tr><td>175</td><td>2</td><td>10</td></tr><tr><td>168</td><td>2</td><td>10</td></tr><tr><td>170</td><td>2</td><td>10</td></tr><tr><td>171</td><td>2</td><td>10</td></tr><tr><td>154</td><td>2</td><td>10</td></tr><tr><td>164</td><td>2</td><td>10</td></tr><tr><td>157</td><td>2</td><td>10</td></tr><tr><td>189</td><td>2</td><td>10</td></tr><tr><td>190</td><td>2</td><td>10</td></tr><tr><td>191</td><td>2</td><td>10</td></tr><tr><td>160</td><td>3</td><td>11</td></tr><tr><td>155</td><td>3</td><td>11</td></tr><tr><td>153</td><td>3</td><td>11</td></tr><tr><td>144</td><td>3</td><td>11</td></tr><tr><td>123</td><td>3</td><td>11</td></tr><tr><td>112</td><td>3</td><td>11</td></tr><tr><td>113</td><td>3</td><td>11</td></tr><tr><td>93</td><td>3</td><td>11</td></tr><tr><td>87</td><td>3</td><td>11</td></tr><tr><td>79</td><td>3</td><td>11</td></tr><tr><td>51</td><td>3</td><td>11</td></tr><tr><td>61</td><td>3</td><td>11</td></tr><tr><td>20</td><td>3</td><td>11</td></tr><tr><td>16</td><td>3</td><td>11</td></tr><tr><td>8</td><td>3</td><td>11</td></tr><tr><td>4</td><td>2</td><td>12</td></tr><tr><td>15</td><td>2</td><td>12</td></tr><tr><td>7</td><td>2</td><td>12</td></tr><tr><td>19</td><td>2</td><td>12</td></tr><tr><td>33</td><td>2</td><td>12</td></tr><tr><td>28</td><td>2</td><td>12</td></tr><tr><td>29</td><td>2</td><td>12</td></tr><tr><td>64</td><td>2</td><td>12</td></tr><tr><td>67</td><td>2</td><td>12</td></tr><tr><td>42</td><td>2</td><td>12</td></tr><tr><td>78</td><td>2</td><td>12</td></tr><tr><td>106</td><td>2</td><td>12</td></tr><tr><td>126</td><td>2</td><td>12</td></tr><tr><td>130</td><td>2</td><td>12</td></tr><tr><td>141</td><td>2</td><td>12</td></tr><tr><td>137</td><td>2</td><td>12</td></tr><tr><td>145</td><td>2</td><td>12</td></tr><tr><td>148</td><td>2</td><td>12</td></tr><tr><td>161</td><td>2</td><td>12</td></tr><tr><td>150</td><td>2</td><td>12</td></tr><tr><td>169</td><td>2</td><td>12</td></tr><tr><td>195</td><td>2</td><td>12</td></tr><tr><td>197</td><td>3</td><td>13</td></tr><tr><td>188</td><td>3</td><td>13</td></tr><tr><td>176</td><td>3</td><td>13</td></tr><tr><td>181</td><td>3</td><td>13</td></tr><tr><td>146</td><td>3</td><td>13</td></tr><tr><td>132</td><td>3</td><td>13</td></tr><tr><td>133</td><td>3</td><td>13</td></tr><tr><td>134</td><td>3</td><td>13</td></tr><tr><td>124</td><td>3</td><td>13</td></tr><tr><td>120</td><td>3</td><td>13</td></tr><tr><td>92</td><td>3</td><td>13</td></tr><tr><td>82</td><td>3</td><td>13</td></tr><tr><td>77</td><td>3</td><td>13</td></tr><tr><td>36</td><td>3</td><td>13</td></tr><tr><td>44</td><td>3</td><td>13</td></tr><tr><td>54</td><td>3</td><td>13</td></tr><tr><td>22</td><td>3</td><td>13</td></tr><tr><td>17</td><td>3</td><td>13</td></tr><tr><td>18</td><td>3</td><td>13</td></tr><tr><td>9</td><td>3</td><td>13</td></tr><tr><td>6</td><td>3</td><td>13</td></tr><tr><td>59</td><td>2</td><td>14</td></tr><tr><td>39</td><td>2</td><td>14</td></tr><tr><td>80</td><td>2</td><td>14</td></tr><tr><td>127</td><td>2</td><td>14</td></tr><tr><td>109</td><td>2</td><td>14</td></tr><tr><td>118</td><td>2</td><td>14</td></tr><tr><td>139</td><td>2</td><td>14</td></tr><tr><td>149</td><td>2</td><td>14</td></tr><tr><td>156</td><td>2</td><td>14</td></tr><tr><td>165</td><td>2</td><td>14</td></tr><tr><td>163</td><td>2</td><td>14</td></tr><tr><td>187</td><td>3</td><td>15</td></tr><tr><td>193</td><td>3</td><td>15</td></tr><tr><td>138</td><td>3</td><td>15</td></tr><tr><td>143</td><td>3</td><td>15</td></tr><tr><td>115</td><td>3</td><td>15</td></tr><tr><td>96</td><td>3</td><td>15</td></tr><tr><td>97</td><td>3</td><td>15</td></tr><tr><td>49</td><td>3</td><td>15</td></tr><tr><td>27</td><td>3</td><td>15</td></tr><tr><td>55</td><td>2</td><td>16</td></tr><tr><td>38</td><td>2</td><td>16</td></tr><tr><td>110</td><td>2</td><td>16</td></tr><tr><td>121</td><td>2</td><td>16</td></tr><tr><td>140</td><td>2</td><td>16</td></tr><tr><td>117</td><td>3</td><td>17</td></tr><tr><td>83</td><td>3</td><td>17</td></tr><tr><td>88</td><td>3</td><td>17</td></tr><tr><td>89</td><td>3</td><td>17</td></tr><tr><td>43</td><td>3</td><td>17</td></tr><tr><td>1</td><td>3</td><td>17</td></tr><tr><td>3</td><td>3</td><td>17</td></tr><tr><td>198</td><td>3</td><td>17</td></tr><tr><td>172</td><td>2</td><td>18</td></tr><tr><td>12</td><td>2</td><td>18</td></tr><tr><td>35</td><td>3</td><td>19</td></tr><tr><td>48</td><td>3</td><td>19</td></tr><tr><td>74</td><td>3</td><td>19</td></tr><tr><td>122</td><td>3</td><td>19</td></tr><tr><td>94</td><td>2</td><td>20</td></tr><tr><td>70</td><td>2</td><td>21</td></tr><tr><td>182</td><td>2</td><td>22</td></tr><tr><td>185</td><td>3</td><td>23</td></tr><tr><td>58</td><td>2</td><td>24</td></tr></table>"
                    },
                    "metadata": {}
                }
            ],
            "execution_count": 6
        }
    ]
}